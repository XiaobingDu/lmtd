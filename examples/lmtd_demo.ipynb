{
 "cells": [
  {
   "cell_type": "markdown",
   "metadata": {},
   "source": [
    "## Example of LMTD usage"
   ]
  },
  {
   "cell_type": "code",
   "execution_count": 5,
   "metadata": {},
   "outputs": [
    {
     "name": "stdout",
     "output_type": "stream",
     "text": [
      "The autoreload extension is already loaded. To reload it, use:\n",
      "  %reload_ext autoreload\n"
     ]
    }
   ],
   "source": [
    "%load_ext autoreload \n",
    "%autoreload 2\n",
    "import sys\n",
    "sys.path.append('../')\n",
    "from lmtd9 import LMTD\n",
    "from lmtd9 import database as db"
   ]
  },
  {
   "cell_type": "markdown",
   "metadata": {},
   "source": [
    "### Examples of using LMTD class"
   ]
  },
  {
   "cell_type": "code",
   "execution_count": 6,
   "metadata": {},
   "outputs": [],
   "source": [
    "lmtd = LMTD() # Creating an LMTD object for handling lmtd data"
   ]
  },
  {
   "cell_type": "code",
   "execution_count": 7,
   "metadata": {},
   "outputs": [
    {
     "name": "stdout",
     "output_type": "stream",
     "text": [
      "----------------------------------------\n",
      "Splits are pre-fetched\n",
      "----------------------------------------\n",
      "train ids    :  2874\n",
      "train targets:  2874\n",
      "valid ids    :  374\n",
      "valid targets:  374\n",
      "test ids     :  773\n",
      "test targets :  773\n",
      "genres       :  isAction isAdventure isComedy isCrime isDrama isHorror isRomance isSciFi isThriller\n"
     ]
    }
   ],
   "source": [
    "print '--' * 20\n",
    "print 'Splits are pre-fetched'\n",
    "print '--' * 20\n",
    "print 'train ids    : ', len(lmtd.train_ids)\n",
    "print 'train targets: ', len(lmtd.train_labels)\n",
    "print 'valid ids    : ', len(lmtd.valid_ids)\n",
    "print 'valid targets: ', len(lmtd.valid_labels)\n",
    "print 'test ids     : ', len(lmtd.test_ids)\n",
    "print 'test targets : ', len(lmtd.test_labels)\n",
    "print 'genres       : ', ' '.join(lmtd.genres)"
   ]
  },
  {
   "cell_type": "markdown",
   "metadata": {},
   "source": [
    "### Example of fetching movie data"
   ]
  },
  {
   "cell_type": "code",
   "execution_count": 8,
   "metadata": {},
   "outputs": [
    {
     "name": "stdout",
     "output_type": "stream",
     "text": [
      "------------------------------\n",
      "Data example\n",
      "------------------------------\n",
      "trailer id:  000002\n",
      "movie id  :  tt2614684\n",
      "genres db :  Action, Drama, Thriller\n",
      "------------------------------\n",
      "Checking Genres\n",
      "------------------------------\n",
      "labels       :  [1 0 0 0 1 0 0 0 1]\n",
      "re-converted :  ['isAction' 'isDrama' 'isThriller']\n"
     ]
    }
   ],
   "source": [
    "# First instance of training data\n",
    "trailer_id = lmtd.train_ids[0]\n",
    "\n",
    "# Returns a dictionary in which keys are the queried trailer_ids\n",
    "movie_data = lmtd.get_data_by_trailer_ids(trailer_id)\n",
    "\n",
    "# Lets see some data from the selected trailer_id\n",
    "print '--' * 15\n",
    "print 'Data example'\n",
    "print '--' * 15\n",
    "\n",
    "print 'trailer id: ', trailer_id\n",
    "print 'movie id  : ', movie_data[trailer_id]['imdbID']\n",
    "print 'genres db : ', movie_data[trailer_id]['Genre']\n",
    "\n",
    "# Checking genres \n",
    "print '--' * 15\n",
    "print 'Checking Genres'\n",
    "print '--' * 15\n",
    "print 'labels       : ', lmtd.train_labels[0]\n",
    "print 're-converted : ', lmtd.binary_label_to_genre(lmtd.train_labels[0])[0]"
   ]
  },
  {
   "cell_type": "markdown",
   "metadata": {},
   "source": [
    "### Available movie data for LMTD-based queries"
   ]
  },
  {
   "cell_type": "code",
   "execution_count": 9,
   "metadata": {},
   "outputs": [
    {
     "name": "stdout",
     "output_type": "stream",
     "text": [
      "------------------------------\n",
      "All available metadata\n",
      "------------------------------\n",
      "['Plot', 'Rated', 'tomatoImage', 'Title', 'DVD', 'tomatoMeter', 'Writer', 'FullPlot', 'tomatoUserRating', 'Production', 'Actors', 'tomatoFresh', 'Type', 'id', 'imdbVotes', 'Website', 'tomatoConsensus', 'Poster', 'tomatoRotten', 'Director', 'Released', 'tomatoUserReviews', 'Awards', 'Genre', 'tomatoUserMeter', 'Response', 'Genre1', 'Genre3', 'Genre2', 'Language', 'Country', 'BoxOffice', 'path', 'Runtime', 'tomatoReviews', 'imdbID', 'Metascore', 'imdbRating', 'tomatoURL', 'tomatoRating', 'Year']\n"
     ]
    }
   ],
   "source": [
    "print '--' * 15\n",
    "print 'All available metadata'\n",
    "print '--' * 15\n",
    "print movie_data['000002'].keys()"
   ]
  },
  {
   "cell_type": "markdown",
   "metadata": {},
   "source": [
    "### Fetching precomputed features"
   ]
  },
  {
   "cell_type": "code",
   "execution_count": 12,
   "metadata": {},
   "outputs": [],
   "source": [
    "# be sure to inform $LMTD_PATH to load downloaded features\n",
    "lmtd_path = '/data/datasets/lmtd/features/lmtd9_resnet152.pickle'\n",
    "lmtd.load_precomp_features(features_file=lmtd_path)"
   ]
  },
  {
   "cell_type": "code",
   "execution_count": 13,
   "metadata": {
    "scrolled": false
   },
   "outputs": [
    {
     "name": "stdout",
     "output_type": "stream",
     "text": [
      "loading valid ... \n",
      "loading train ... \n",
      "loading test ... \n"
     ]
    }
   ],
   "source": [
    "x_valid, x_valid_len, y_valid, valid_ids = lmtd.get_split('valid')\n",
    "x_train, x_train_len, y_train, train_ids = lmtd.get_split('train')\n",
    "x_test,  x_test_len,  y_test,  test_ids  = lmtd.get_split('test')"
   ]
  },
  {
   "cell_type": "code",
   "execution_count": null,
   "metadata": {
    "collapsed": true
   },
   "outputs": [],
   "source": [
    "# x_train     ==> visual features from trailer data (instances, time_steps, conv_features)\n",
    "# x_train_len ==> number of steps for each instance (#time_steps) \n",
    "# y_train     ==> binary movie genres: target (instances, nb_classes)\n",
    "# train_ids   ==> trailer_ids for all training instances"
   ]
  },
  {
   "cell_type": "code",
   "execution_count": 14,
   "metadata": {},
   "outputs": [
    {
     "name": "stdout",
     "output_type": "stream",
     "text": [
      "(2874, 240, 2048) (2874, 9) 2874 000002 [138 240 135 144  99 152 201 147 233 171]\n",
      "(374, 240, 2048) (374, 9) 374\n",
      "(773, 240, 2048) (773, 9) 773\n"
     ]
    }
   ],
   "source": [
    "print x_train.shape, y_train.shape, len(train_ids), train_ids[0], x_train_len[:10]\n",
    "print x_valid.shape, y_valid.shape, len(valid_ids)\n",
    "print x_test.shape, y_test.shape, len(test_ids)"
   ]
  }
 ],
 "metadata": {
  "kernelspec": {
   "display_name": "jonatas",
   "language": "python",
   "name": "jonatas"
  },
  "language_info": {
   "codemirror_mode": {
    "name": "ipython",
    "version": 2
   },
   "file_extension": ".py",
   "mimetype": "text/x-python",
   "name": "python",
   "nbconvert_exporter": "python",
   "pygments_lexer": "ipython2",
   "version": "2.7.13"
  }
 },
 "nbformat": 4,
 "nbformat_minor": 2
}
