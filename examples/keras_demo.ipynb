{
 "cells": [
  {
   "cell_type": "code",
   "execution_count": null,
   "metadata": {
    "scrolled": true
   },
   "outputs": [],
   "source": [
    "%load_ext autoreload \n",
    "%autoreload 2\n",
    "import os\n",
    "import sys\n",
    "sys.path.append('../')\n",
    "from lmtd9 import LMTD\n",
    "from lmtd9 import database as db\n",
    "from lmtd9 import evaluation\n",
    "from keras import Model\n",
    "from keras.layers import Input, Convolution1D, GlobalMaxPooling1D, merge, Dense, Dropout\n",
    "from keras.layers import BatchNormalization, Activation"
   ]
  },
  {
   "cell_type": "code",
   "execution_count": null,
   "metadata": {
    "collapsed": true
   },
   "outputs": [],
   "source": [
    "time_steps = 240\n",
    "nb_features = 2048\n",
    "nb_classes = 9\n",
    "conv_filters = 384\n",
    "dropout = 0.5\n",
    "max_epochs = 10"
   ]
  },
  {
   "cell_type": "code",
   "execution_count": null,
   "metadata": {
    "collapsed": true
   },
   "outputs": [],
   "source": [
    "lmtd = LMTD() # Creating an LMTD object for handling lmtd data"
   ]
  },
  {
   "cell_type": "code",
   "execution_count": null,
   "metadata": {},
   "outputs": [],
   "source": [
    "# Be sure to update your LMTD_PATH\n",
    "LMTD_PATH = # insert your $LMTD_PATH here\n",
    "\n",
    "features_path = os.path.join(LMTD_PATH, 'features', 'lmtd9_resnet152.pickle')\n",
    "lmtd.load_precomp_features(features_file=features_path)"
   ]
  },
  {
   "cell_type": "code",
   "execution_count": null,
   "metadata": {},
   "outputs": [],
   "source": [
    "x_valid, x_valid_len, y_valid, valid_ids = lmtd.get_split('valid')\n",
    "x_train, x_train_len, y_train, train_ids = lmtd.get_split('train')\n",
    "x_test,  x_test_len,  y_test,  test_ids  = lmtd.get_split('test')"
   ]
  },
  {
   "cell_type": "code",
   "execution_count": null,
   "metadata": {
    "collapsed": true
   },
   "outputs": [],
   "source": [
    "# A very simple architecture for fast training\n",
    "inputs = Input(shape=(time_steps, nb_features))\n",
    "x = BatchNormalization()(inputs)\n",
    "x = Convolution1D(conv_filters, kernel_size=3)(inputs)\n",
    "x = BatchNormalization()(x)\n",
    "x = Activation('relu')(x)\n",
    "x = GlobalMaxPooling1D()(x)\n",
    "x = Dropout(dropout)(x)\n",
    "out = Dense(nb_classes, activation='sigmoid')(x)\n",
    "\n",
    "model = Model(inputs, out)"
   ]
  },
  {
   "cell_type": "code",
   "execution_count": null,
   "metadata": {
    "collapsed": true
   },
   "outputs": [],
   "source": [
    "def print_result(result):\n",
    "    for k, v in result.iteritems():\n",
    "        try:\n",
    "            print '{:<15s}'.format(lmtd.genres[k][2:]),\n",
    "        except IndexError:\n",
    "            print '{:<15s}'.format(k.title()),\n",
    "        print '{:5.4f}'.format(v)\n"
   ]
  },
  {
   "cell_type": "code",
   "execution_count": null,
   "metadata": {},
   "outputs": [],
   "source": [
    "print model.summary()"
   ]
  },
  {
   "cell_type": "code",
   "execution_count": null,
   "metadata": {
    "collapsed": true
   },
   "outputs": [],
   "source": [
    "model.compile('Adam', 'binary_crossentropy')"
   ]
  },
  {
   "cell_type": "code",
   "execution_count": null,
   "metadata": {
    "scrolled": false
   },
   "outputs": [],
   "source": [
    "for epoch in range(max_epochs):\n",
    "    \n",
    "    model.fit(x_train, y_train,\n",
    "              validation_data=(x_valid, y_valid), \n",
    "              initial_epoch=epoch,\n",
    "              epochs=epoch+1,\n",
    "              batch_size=32)\n",
    "    \n",
    "    y_pred = model.predict(x_valid)    \n",
    "    result = evaluation.prauc(y_valid, y_pred)\n",
    "    \n",
    "    print_result(result)\n",
    "    print '' "
   ]
  }
 ],
 "metadata": {
  "kernelspec": {
   "display_name": "Python 2",
   "language": "python",
   "name": "python2"
  },
  "language_info": {
   "codemirror_mode": {
    "name": "ipython",
    "version": 2
   },
   "file_extension": ".py",
   "mimetype": "text/x-python",
   "name": "python",
   "nbconvert_exporter": "python",
   "pygments_lexer": "ipython2",
   "version": "2.7.13"
  }
 },
 "nbformat": 4,
 "nbformat_minor": 2
}
